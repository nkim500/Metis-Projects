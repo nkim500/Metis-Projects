{
 "cells": [
  {
   "cell_type": "code",
   "execution_count": 2,
   "id": "3501b7f9-63a3-49d2-a1c8-8de55e346aea",
   "metadata": {},
   "outputs": [
    {
     "name": "stdout",
     "output_type": "stream",
     "text": [
      "hello world\n"
     ]
    }
   ],
   "source": [
    "print(\"hello world\")"
   ]
  },
  {
   "cell_type": "markdown",
   "id": "662fa79b-9dad-4bfb-b4a5-4a0fb1c43b88",
   "metadata": {},
   "source": [
    "## Hello\n"
   ]
  },
  {
   "cell_type": "code",
   "execution_count": null,
   "id": "0744bded-62b8-45aa-95bb-750d8e78f19b",
   "metadata": {},
   "outputs": [],
   "source": []
  }
 ],
 "metadata": {
  "kernelspec": {
   "display_name": "Python [conda env:metis] *",
   "language": "python",
   "name": "conda-env-metis-py"
  },
  "language_info": {
   "codemirror_mode": {
    "name": "ipython",
    "version": 3
   },
   "file_extension": ".py",
   "mimetype": "text/x-python",
   "name": "python",
   "nbconvert_exporter": "python",
   "pygments_lexer": "ipython3",
   "version": "3.8.10"
  }
 },
 "nbformat": 4,
 "nbformat_minor": 5
}
