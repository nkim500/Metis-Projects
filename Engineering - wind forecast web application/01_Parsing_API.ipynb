{
 "cells": [
  {
   "cell_type": "markdown",
   "id": "7a796257-f16b-4412-96bb-477dccc4df30",
   "metadata": {},
   "source": [
    "#### Set up the environment"
   ]
  },
  {
   "cell_type": "code",
   "execution_count": 44,
   "id": "e6338dc2",
   "metadata": {},
   "outputs": [],
   "source": [
    "import requests\n",
    "import math\n",
    "import numpy as np\n",
    "import datetime\n",
    "import seaborn as sns\n",
    "import warnings\n",
    "warnings.filterwarnings('ignore')"
   ]
  },
  {
   "cell_type": "markdown",
   "id": "b4a97610-e5ab-424a-8662-783bc213edd2",
   "metadata": {},
   "source": [
    "#### Get US weather station metadata"
   ]
  },
  {
   "cell_type": "code",
   "execution_count": 2,
   "id": "a75c9737-f34e-49cc-8011-3b052d0a8f69",
   "metadata": {},
   "outputs": [],
   "source": [
    "file = \"data/stations.txt\"\n",
    "\n",
    "with open(file, 'rb') as f:\n",
    "        list_st = f.readlines()"
   ]
  },
  {
   "cell_type": "code",
   "execution_count": 10,
   "id": "3bfc4056-3273-401d-b2b2-76d88ceb5fce",
   "metadata": {},
   "outputs": [],
   "source": [
    "station_metadata = [i.decode(\"utf-8\") for i in list_st]"
   ]
  },
  {
   "cell_type": "code",
   "execution_count": 11,
   "id": "ee33d37d-74aa-4608-847f-d20e002768e3",
   "metadata": {},
   "outputs": [
    {
     "data": {
      "text/plain": [
       "['USAF   WBAN  STATION NAME                  CTRY ST CALL  LAT     LON      ELEV(M) BEGIN    END\\n',\n",
       " '\\n',\n",
       " '007018 99999 WXPOD 7018                                  +00.000 +000.000 +7018.0 20110309 20130730\\n',\n",
       " '007026 99999 WXPOD 7026                    AF            +00.000 +000.000 +7026.0 20120713 20170822\\n',\n",
       " '007070 99999 WXPOD 7070                    AF            +00.000 +000.000 +7070.0 20140923 20150926\\n',\n",
       " '008260 99999 WXPOD8270                                   +00.000 +000.000 +0000.0 20050101 20120731\\n',\n",
       " '008268 99999 WXPOD8278                     AF            +32.950 +065.567 +1156.7 20100519 20120323\\n',\n",
       " '008307 99999 WXPOD 8318                    AF            +00.000 +000.000 +8318.0 20100421 20100421\\n',\n",
       " '008411 99999 XM20                                                                 20160217 20160217\\n',\n",
       " '008414 99999 XM18                                                                 20160216 20160217\\n',\n",
       " '008415 99999 XM21                                                                 20160217 20200314\\n',\n",
       " '008418 99999 XM24                                                                 20160217 20160217\\n',\n",
       " '010000 99999 BOGUS NORWAY                  NO      ENRS                           20010927 20041019\\n',\n",
       " '010010 99999 JAN MAYEN(NOR-NAVY)           NO      ENJA  +70.933 -008.667 +0009.0 19310101 20211207\\n',\n",
       " '010013 99999 ROST                          NO                                     19861120 19880105\\n']"
      ]
     },
     "execution_count": 11,
     "metadata": {},
     "output_type": "execute_result"
    }
   ],
   "source": [
    "station_metadata[20:35]"
   ]
  },
  {
   "cell_type": "code",
   "execution_count": 4,
   "id": "5fd430d6-b89c-49dc-a9c3-77105d77d2e6",
   "metadata": {},
   "outputs": [],
   "source": [
    "from collections import namedtuple"
   ]
  },
  {
   "cell_type": "code",
   "execution_count": 6,
   "id": "7c409460-5dd2-4fef-86ea-e953d0480990",
   "metadata": {},
   "outputs": [],
   "source": [
    "stations_us = [] \n",
    "station_i = namedtuple(\"station\", \"usaf wban station_code st_name country state call latitude longitude elevation begin end forecastlink\")\n",
    "\n",
    "for i in list_string[22:]:\n",
    "    if i[43:45] == \"US\":\n",
    "        usaf = i[:6].replace(\" \", \"\")\n",
    "        wban = i[7:12].replace(\" \", \"\")\n",
    "        station_code = i[13:18].replace(\" \", \"\")\n",
    "        st_name = i[19:42].replace(\" \", \"\")\n",
    "        country = i[43:45].replace(\" \", \"\")\n",
    "        state = i[48:50].replace(\" \", \"\")\n",
    "        call = i[51:55].replace(\" \", \"\")\n",
    "        latitude = i[57:64].replace(\" \", \"\").replace(\"+\",\"\")\n",
    "        longitude = i[65:73].replace(\" \", \"\").replace(\"+\",\"\")\n",
    "        elevation = i[74:81].replace(\" \", \"\").replace(\"+\",\"\")\n",
    "        begin = i[82:90].replace(\" \", \"\")\n",
    "        end = i[91:99].replace(\" \", \"\")\n",
    "        try:\n",
    "            forecastlink = requests.get(\"https://api.weather.gov/points/\"+latitude+\",\"+longitude).json()['properties']['forecastGridData']\n",
    "        except KeyError:\n",
    "            forecastlink = \"\"\n",
    "        stations_us.append(station_i(usaf, wban, station_code, st_name, country, state, call, latitude, longitude, elevation, begin, end, forecastlink))\n",
    "    else:\n",
    "        pass"
   ]
  },
  {
   "cell_type": "markdown",
   "id": "ff4b7000-538b-4481-aa4e-118572144515",
   "metadata": {},
   "source": [
    "#### Data cleaning: removing certain weather stations (e.g. no coordinates, no forecasts available, etc)"
   ]
  },
  {
   "cell_type": "code",
   "execution_count": 7,
   "id": "3a3de3a4-f6de-4788-ba47-c8692f17d903",
   "metadata": {},
   "outputs": [],
   "source": [
    "for i in stations_us:\n",
    "    if i.latitude == \"\":\n",
    "        stations_us.remove(i)\n",
    "    elif i.longitude == \"\":\n",
    "        stations_us.remove(i)"
   ]
  },
  {
   "cell_type": "code",
   "execution_count": 8,
   "id": "79708d14-4096-4462-877a-c15c27f97bd1",
   "metadata": {
    "tags": []
   },
   "outputs": [],
   "source": [
    "for i in stations_us:\n",
    "    try: \n",
    "        if requests.get(\"https://api.weather.gov/points/\"+i.latitude+\",\"+i.longitude).json()[\"status\"] == 404:\n",
    "            stations_us.remove(i)\n",
    "    except KeyError:\n",
    "        pass"
   ]
  },
  {
   "cell_type": "code",
   "execution_count": 41,
   "id": "69f76a50-47c8-48c8-bf7e-9011d5a55c2d",
   "metadata": {},
   "outputs": [],
   "source": [
    "for i in stations_us:\n",
    "    if len(i.latitude) < 1:\n",
    "        stations_us.remove(i)\n",
    "    elif len(i.longitude) < 1:\n",
    "        stations_us.remove(i)\n",
    "    elif i.usaf == '997957':\n",
    "        stations_us.remove(i)"
   ]
  },
  {
   "cell_type": "markdown",
   "id": "5f5d4657-08fa-4e5f-84e2-a13c27645569",
   "metadata": {},
   "source": [
    "#### Checkpoint: export US weather stations into .csv file"
   ]
  },
  {
   "cell_type": "code",
   "execution_count": null,
   "id": "703f47ca-d746-405a-9530-8ab44aa7ad1a",
   "metadata": {},
   "outputs": [],
   "source": [
    "import csv\n",
    "with open('US_stations.csv', 'w',) as csvfile:\n",
    "    writer = csv.writer(csvfile)\n",
    "    writer.writerow(['usaf', 'wban', 'station_code', 'st_name', 'country', 'state', 'call', 'latitude', 'longitude', 'elevation', 'begin', 'end', 'forecast_api_endpoint'])\n",
    "    for station in stations_us:\n",
    "        writer.writerow([station.usaf, station.wban, station.station_code, station.st_name, station.country, station.state, station.call, station.latitude,\\\n",
    "                        station.longitude, station.elevation, station.begin, station.end, station.forecastlink])"
   ]
  },
  {
   "cell_type": "markdown",
   "id": "82cae899-ae34-48f1-b185-69231d13df7b",
   "metadata": {},
   "source": [
    "#### Build helper functions to organize forecast API output "
   ]
  },
  {
   "cell_type": "code",
   "execution_count": 18,
   "id": "3925b3ea-1fd1-45f4-b709-780975af8e1a",
   "metadata": {
    "tags": []
   },
   "outputs": [],
   "source": [
    "def temp_forecast (x):\n",
    "# api is forecastGridData endpoint e.g. 'https://api.weather.gov/gridpoints/EPZ/106,80'; can be called by stations_us.forecastlink\n",
    "    api = requests.get(x).json()\n",
    "    dates = []\n",
    "    output = []\n",
    "\n",
    "    for i in api['properties']['temperature']['values']:\n",
    "        date, hour = i['validTime'].split(\"T\")[0], i['validTime'].split(\"T\")[1].split(\"+\")[0]\n",
    "        dateobject = datetime.datetime.strptime(date + \" \" + hour, '%Y-%m-%d %H:%M:%S')\n",
    "        forhowmany = int(i['validTime'].split(\"T\")[2].split(\"H\")[0])\n",
    "        forecast = round(i['value'],2)\n",
    "        \n",
    "        if forhowmany == 1:\n",
    "            dates.append(dateobject)\n",
    "            output.append(forecast)\n",
    "        else:\n",
    "            dates.append(dateobject)\n",
    "            output.append(forecast)\n",
    "            while forhowmany > 1:\n",
    "                dateobject += datetime.timedelta(hours=1)\n",
    "                dates.append(dateobject)\n",
    "                output.append(forecast)\n",
    "                forhowmany -= 1\n",
    "    \n",
    "    return dates, output"
   ]
  },
  {
   "cell_type": "code",
   "execution_count": 19,
   "id": "95c99ef6-7814-440d-bcf9-e53c46ec1c57",
   "metadata": {
    "tags": []
   },
   "outputs": [],
   "source": [
    "def dew_forecast (x):\n",
    "\n",
    "    api = requests.get(x).json()\n",
    "    dates = []\n",
    "    output = []\n",
    "\n",
    "    for i in api['properties']['dewpoint']['values']:\n",
    "        date, hour = i['validTime'].split(\"T\")[0], i['validTime'].split(\"T\")[1].split(\"+\")[0]\n",
    "        dateobject = datetime.datetime.strptime(date + \" \" + hour, '%Y-%m-%d %H:%M:%S')\n",
    "        forhowmany = int(i['validTime'].split(\"T\")[2].split(\"H\")[0])\n",
    "        forecast = round(i['value'],2)\n",
    "        \n",
    "        if forhowmany == 1:\n",
    "            dates.append(dateobject)\n",
    "            output.append(forecast)\n",
    "        else:\n",
    "            dates.append(dateobject)\n",
    "            output.append(forecast)\n",
    "            while forhowmany > 1:\n",
    "                dateobject += datetime.timedelta(hours=1)\n",
    "                dates.append(dateobject)\n",
    "                output.append(forecast)\n",
    "                forhowmany -= 1\n",
    "    \n",
    "    return dates, output"
   ]
  },
  {
   "cell_type": "code",
   "execution_count": 20,
   "id": "a455354c-0f0d-43de-be03-ad269d0d47a0",
   "metadata": {},
   "outputs": [],
   "source": [
    "def hum_forecast (x):\n",
    "\n",
    "    api = requests.get(x).json()\n",
    "    dates = []\n",
    "    output = []\n",
    "\n",
    "    for i in api['properties']['relativeHumidity']['values']:\n",
    "        date, hour = i['validTime'].split(\"T\")[0], i['validTime'].split(\"T\")[1].split(\"+\")[0]\n",
    "        dateobject = datetime.datetime.strptime(date + \" \" + hour, '%Y-%m-%d %H:%M:%S')\n",
    "        forhowmany = int(i['validTime'].split(\"T\")[2].split(\"H\")[0])\n",
    "        forecast = round(i['value'],2)\n",
    "        \n",
    "        if forhowmany == 1:\n",
    "            dates.append(dateobject)\n",
    "            output.append(forecast)\n",
    "        else:\n",
    "            dates.append(dateobject)\n",
    "            output.append(forecast)\n",
    "            while forhowmany > 1:\n",
    "                dateobject += datetime.timedelta(hours=1)\n",
    "                dates.append(dateobject)\n",
    "                output.append(forecast)\n",
    "                forhowmany -= 1\n",
    "    \n",
    "    return dates, output"
   ]
  },
  {
   "cell_type": "code",
   "execution_count": 21,
   "id": "b191d6e7-b766-474d-b812-ab20d47aeb2e",
   "metadata": {},
   "outputs": [],
   "source": [
    "def wind_d_forecast (x):\n",
    "\n",
    "    api = requests.get(x).json()\n",
    "    dates = []\n",
    "    output = []\n",
    "\n",
    "    for i in api['properties']['windDirection']['values']:\n",
    "        date, hour = i['validTime'].split(\"T\")[0], i['validTime'].split(\"T\")[1].split(\"+\")[0]\n",
    "        dateobject = datetime.datetime.strptime(date + \" \" + hour, '%Y-%m-%d %H:%M:%S')\n",
    "        forhowmany = int(i['validTime'].split(\"T\")[2].split(\"H\")[0])\n",
    "        forecast = round(i['value'],2)\n",
    "        \n",
    "        if forhowmany == 1:\n",
    "            dates.append(dateobject)\n",
    "            output.append(forecast)\n",
    "        else:\n",
    "            dates.append(dateobject)\n",
    "            output.append(forecast)\n",
    "            while forhowmany > 1:\n",
    "                dateobject += datetime.timedelta(hours=1)\n",
    "                dates.append(dateobject)\n",
    "                output.append(forecast)\n",
    "                forhowmany -= 1\n",
    "    \n",
    "    return dates, output"
   ]
  },
  {
   "cell_type": "code",
   "execution_count": 22,
   "id": "4951494e-ad91-4269-9a33-5a55152cf27c",
   "metadata": {},
   "outputs": [],
   "source": [
    "def wind_s_forecast (x):\n",
    "\n",
    "    api = requests.get(x).json()\n",
    "    dates = []\n",
    "    output = []\n",
    "\n",
    "    for i in api['properties']['windSpeed']['values']:\n",
    "        date, hour = i['validTime'].split(\"T\")[0], i['validTime'].split(\"T\")[1].split(\"+\")[0]\n",
    "        dateobject = datetime.datetime.strptime(date + \" \" + hour, '%Y-%m-%d %H:%M:%S')\n",
    "        forhowmany = int(i['validTime'].split(\"T\")[2].split(\"H\")[0])\n",
    "        forecast = round(i['value'],2)\n",
    "        \n",
    "        if forhowmany == 1:\n",
    "            dates.append(dateobject)\n",
    "            output.append(forecast)\n",
    "        else:\n",
    "            dates.append(dateobject)\n",
    "            output.append(forecast)\n",
    "            while forhowmany > 1:\n",
    "                dateobject += datetime.timedelta(hours=1)\n",
    "                dates.append(dateobject)\n",
    "                output.append(forecast)\n",
    "                forhowmany -= 1\n",
    "    \n",
    "    return dates, output"
   ]
  },
  {
   "cell_type": "code",
   "execution_count": 23,
   "id": "40b73fe9-a5d5-4d7a-b65b-a22e0c57af55",
   "metadata": {},
   "outputs": [],
   "source": [
    "def wind_g_forecast (x):\n",
    "\n",
    "    api = requests.get(x).json()\n",
    "    dates = []\n",
    "    output = []\n",
    "\n",
    "    for i in api['properties']['windGust']['values']:\n",
    "        date, hour = i['validTime'].split(\"T\")[0], i['validTime'].split(\"T\")[1].split(\"+\")[0]\n",
    "        dateobject = datetime.datetime.strptime(date + \" \" + hour, '%Y-%m-%d %H:%M:%S')\n",
    "        forhowmany = int(i['validTime'].split(\"T\")[2].split(\"H\")[0])\n",
    "        forecast = round(i['value'],2)\n",
    "        \n",
    "        if forhowmany == 1:\n",
    "            dates.append(dateobject)\n",
    "            output.append(forecast)\n",
    "        else:\n",
    "            dates.append(dateobject)\n",
    "            output.append(forecast)\n",
    "            while forhowmany > 1:\n",
    "                dateobject += datetime.timedelta(hours=1)\n",
    "                dates.append(dateobject)\n",
    "                output.append(forecast)\n",
    "                forhowmany -= 1\n",
    "    \n",
    "    return dates, output"
   ]
  },
  {
   "cell_type": "code",
   "execution_count": 24,
   "id": "35e26d4f-e08e-4512-82f2-d02a54b2ac00",
   "metadata": {},
   "outputs": [],
   "source": [
    "def prcp_p_forecast (x):\n",
    "\n",
    "    api = requests.get(x).json()\n",
    "    dates = []\n",
    "    output = []\n",
    "\n",
    "    for i in api['properties']['probabilityOfPrecipitation']['values']:\n",
    "        date, hour = i['validTime'].split(\"T\")[0], i['validTime'].split(\"T\")[1].split(\"+\")[0]\n",
    "        dateobject = datetime.datetime.strptime(date + \" \" + hour, '%Y-%m-%d %H:%M:%S')\n",
    "        forhowmany = int(i['validTime'].split(\"T\")[2].split(\"H\")[0])\n",
    "        forecast = round(i['value'],2)\n",
    "        \n",
    "        if forhowmany == 1:\n",
    "            dates.append(dateobject)\n",
    "            output.append(forecast)\n",
    "        else:\n",
    "            dates.append(dateobject)\n",
    "            output.append(forecast)\n",
    "            while forhowmany > 1:\n",
    "                dateobject += datetime.timedelta(hours=1)\n",
    "                dates.append(dateobject)\n",
    "                output.append(forecast)\n",
    "                forhowmany -= 1\n",
    "    \n",
    "    return dates, output"
   ]
  },
  {
   "cell_type": "code",
   "execution_count": 25,
   "id": "9f779769-69a7-4383-92f6-16d1948408d6",
   "metadata": {},
   "outputs": [],
   "source": [
    "def prcp_q_forecast (x):\n",
    "\n",
    "    api = requests.get(x).json()\n",
    "    dates = []\n",
    "    output = []\n",
    "\n",
    "    for i in api['properties']['quantitativePrecipitation']['values']:\n",
    "        date, hour = i['validTime'].split(\"T\")[0], i['validTime'].split(\"T\")[1].split(\"+\")[0]\n",
    "        dateobject = datetime.datetime.strptime(date + \" \" + hour, '%Y-%m-%d %H:%M:%S')\n",
    "        forhowmany = int(i['validTime'].split(\"T\")[2].split(\"H\")[0])\n",
    "        forecast = round(i['value'],2)\n",
    "        \n",
    "        if forhowmany == 1:\n",
    "            dates.append(dateobject)\n",
    "            output.append(forecast)\n",
    "        else:\n",
    "            dates.append(dateobject)\n",
    "            output.append(forecast)\n",
    "            while forhowmany > 1:\n",
    "                dateobject += datetime.timedelta(hours=1)\n",
    "                dates.append(dateobject)\n",
    "                output.append(forecast)\n",
    "                forhowmany -= 1\n",
    "    \n",
    "    return dates, output"
   ]
  },
  {
   "cell_type": "code",
   "execution_count": 26,
   "id": "1c180e31-90af-4edb-8575-27a0f0625e84",
   "metadata": {},
   "outputs": [],
   "source": [
    "def tw_forecast (x):\n",
    "# api is forecastGridData endpoint e.g. 'https://api.weather.gov/gridpoints/EPZ/106,80'; can be called by stations_us.forecastlink\n",
    "    api = requests.get(x).json()\n",
    "    dates_t = []\n",
    "    dates_wd = []\n",
    "    dates_ws = []\n",
    "    output_t = []\n",
    "    output_wd = []\n",
    "    output_ws = []\n",
    "\n",
    "    for i in api['properties']['temperature']['values']:\n",
    "        date, hour = i['validTime'].split(\"T\")[0], i['validTime'].split(\"T\")[1].split(\"+\")[0]\n",
    "        dateobject = datetime.datetime.strptime(date + \" \" + hour, '%Y-%m-%d %H:%M:%S')\n",
    "        forhowmany = int(i['validTime'].split(\"T\")[2].split(\"H\")[0])\n",
    "        forecast = round(i['value'],2)\n",
    "        \n",
    "        if forhowmany == 1:\n",
    "            dates_t.append(dateobject)\n",
    "            output_t.append(forecast)\n",
    "        else:\n",
    "            dates_t.append(dateobject)\n",
    "            output_t.append(forecast)\n",
    "            while forhowmany > 1:\n",
    "                dateobject += datetime.timedelta(hours=1)\n",
    "                dates_t.append(dateobject)\n",
    "                output_t.append(forecast)\n",
    "                forhowmany -= 1\n",
    "                \n",
    "    for i in api['properties']['windDirection']['values']:\n",
    "        date, hour = i['validTime'].split(\"T\")[0], i['validTime'].split(\"T\")[1].split(\"+\")[0]\n",
    "        dateobject = datetime.datetime.strptime(date + \" \" + hour, '%Y-%m-%d %H:%M:%S')\n",
    "        forhowmany = int(i['validTime'].split(\"T\")[2].split(\"H\")[0])\n",
    "        forecast = round(i['value'],2)\n",
    "        \n",
    "        if forhowmany == 1:\n",
    "            dates_wd.append(dateobject)\n",
    "            output_wd.append(forecast)\n",
    "        else:\n",
    "            dates_wd.append(dateobject)\n",
    "            output_wd.append(forecast)\n",
    "            while forhowmany > 1:\n",
    "                dateobject += datetime.timedelta(hours=1)\n",
    "                dates_wd.append(dateobject)\n",
    "                output_wd.append(forecast)\n",
    "                forhowmany -= 1\n",
    "                \n",
    "    for i in api['properties']['windSpeed']['values']:\n",
    "        date, hour = i['validTime'].split(\"T\")[0], i['validTime'].split(\"T\")[1].split(\"+\")[0]\n",
    "        dateobject = datetime.datetime.strptime(date + \" \" + hour, '%Y-%m-%d %H:%M:%S')\n",
    "        forhowmany = int(i['validTime'].split(\"T\")[2].split(\"H\")[0])\n",
    "        forecast = round(i['value'],2)\n",
    "        \n",
    "        if forhowmany == 1:\n",
    "            dates_ws.append(dateobject)\n",
    "            output_ws.append(forecast)\n",
    "        else:\n",
    "            dates_ws.append(dateobject)\n",
    "            output_ws.append(forecast)\n",
    "            while forhowmany > 1:\n",
    "                dateobject += datetime.timedelta(hours=1)\n",
    "                dates_ws.append(dateobject)\n",
    "                output_ws.append(forecast)\n",
    "                forhowmany -= 1\n",
    "    \n",
    "    return dates_t, dates_ws, dates_wd, output_t, output_ws, output_wd"
   ]
  },
  {
   "cell_type": "code",
   "execution_count": 27,
   "id": "5a951705-dff7-40da-8ae7-2a7615300b78",
   "metadata": {},
   "outputs": [],
   "source": [
    "def append_value(dict_obj, key, value):\n",
    "    if key in dict_obj:\n",
    "        if not isinstance(dict_obj[key], list):\n",
    "            dict_obj[key] = [dict_obj[key]]\n",
    "        dict_obj[key].append(value)\n",
    "    else:\n",
    "        pass"
   ]
  },
  {
   "cell_type": "markdown",
   "id": "8ac63385-bec1-44ba-889f-5c1cea48c4bf",
   "metadata": {},
   "source": [
    "Below aggregates all parsed forecast data to an object"
   ]
  },
  {
   "cell_type": "code",
   "execution_count": 28,
   "id": "0d7b64a5-d570-4504-bf49-12ee69b110a6",
   "metadata": {},
   "outputs": [],
   "source": [
    "def generate_forecast(api):\n",
    "    t1, temp = temp_forecast(api)\n",
    "    t2, dew = dew_forecast(api)\n",
    "    t3, hum = hum_forecast(api)\n",
    "    t4, wd = wind_d_forecast(api)\n",
    "    t5, ws = wind_s_forecast(api)\n",
    "    t6, wg = wind_g_forecast(api)\n",
    "    t7, pp = prcp_p_forecast(api)\n",
    "    t8, pq = prcp_q_forecast(api)\n",
    "    \n",
    "#     output = dict(zip(t1, temp))\n",
    "    \n",
    "#     for key, value in dict(zip(t2, dew)):\n",
    "#         append_value(output, key, value)\n",
    "    output = [t1, temp] \n",
    "    \n",
    "    if t1 == t2:\n",
    "        output.append(dew)\n",
    "        output.append(hum)\n",
    "        output.append(wd)\n",
    "        output.append(ws)\n",
    "        output.append(wg)\n",
    "        output.append(pp)\n",
    "        output.append(pq)\n",
    "        \n",
    "    return output"
   ]
  },
  {
   "cell_type": "markdown",
   "id": "3a89df16-5ca6-4438-8fa6-01f8ce160477",
   "metadata": {
    "tags": []
   },
   "source": [
    "Below defines euclidean distance function for finding the neighboring weather stations when one station is queried"
   ]
  },
  {
   "cell_type": "code",
   "execution_count": 29,
   "id": "02263d09-adbe-4334-8755-7628d33fd355",
   "metadata": {
    "tags": []
   },
   "outputs": [],
   "source": [
    "def distance_calc(a, b):\n",
    "    R = 3963\n",
    "    lat1 = math.radians(float(a.latitude))\n",
    "    lon1 = math.radians(float(a.longitude))\n",
    "    lat2 = math.radians(float(b.latitude))\n",
    "    lon2 = math.radians(float(b.longitude))\n",
    "    \n",
    "    lat_d = lat1 - lat2\n",
    "    lon_d = lon1 - lon2\n",
    "\n",
    "    p = math.sin(lat_d / 2)**2 + math.cos(lat1) * math.cos(lat2) * math.sin(lon_d / 2)**2\n",
    "    c = 2 * math.atan2(math.sqrt(p), math.sqrt(1 - p))\n",
    "    \n",
    "    distance = R * c\n",
    "    \n",
    "    return distance"
   ]
  },
  {
   "cell_type": "code",
   "execution_count": 30,
   "id": "6fbe2a95-c10f-43b8-a38f-808ce923c2b9",
   "metadata": {},
   "outputs": [
    {
     "data": {
      "text/plain": [
       "974.1962985515023"
      ]
     },
     "execution_count": 30,
     "metadata": {},
     "output_type": "execute_result"
    }
   ],
   "source": [
    "distance_calc(stations_us[501], stations_us[600])"
   ]
  },
  {
   "cell_type": "markdown",
   "id": "990cc215-91ba-44c5-81e7-166c95eabea1",
   "metadata": {},
   "source": [
    "Below retrieves n-neighbors closest to the input_station"
   ]
  },
  {
   "cell_type": "code",
   "execution_count": 31,
   "id": "13164a8d-be6b-45a3-bb6c-e5590802f184",
   "metadata": {
    "tags": []
   },
   "outputs": [],
   "source": [
    "def n_neighbors(input_station, n):\n",
    "    \n",
    "    placeholder1 = []\n",
    "    placeholder2 = []\n",
    "\n",
    "    for i in stations_us:\n",
    "        placeholder1.append(i)\n",
    "        placeholder2.append(distance_calc(input_station,i))\n",
    "\n",
    "    distances = np.array(placeholder2)\n",
    "    location_idx = np.argsort(distances)[:n].tolist()\n",
    "\n",
    "    \n",
    "############ FIX SCATTER PLOT TO SHOW INDIVIDUALLY ### \n",
    "    for i in location_idx:\n",
    "        try:\n",
    "            tt, tws, twd, temp, winds, windd = tw_forecast(placeholder1[i].forecastlink)\n",
    "            sns.scatterplot(tws, winds)\n",
    "            sns.scatterplot(twd, windd)\n",
    "            sns.scatterplot(tt, temp)\n",
    "            print(placeholder1[i])\n",
    "        except KeyError:\n",
    "            print(\"Forecast not available for the station\")"
   ]
  },
  {
   "cell_type": "markdown",
   "id": "89d26e41-acf4-457c-9705-836cadcf3952",
   "metadata": {},
   "source": [
    "Lets see how the parsed API could look like:"
   ]
  },
  {
   "cell_type": "code",
   "execution_count": 36,
   "id": "73675c25-7371-42d9-aa72-11db79eaced8",
   "metadata": {},
   "outputs": [],
   "source": [
    "tt, tws, twd, temp, winds, windd = tw_forecast(stations_us[525].forecastlink)"
   ]
  },
  {
   "cell_type": "code",
   "execution_count": 39,
   "id": "d4a01486-9ed3-49e1-89ca-b42d126cab4f",
   "metadata": {},
   "outputs": [
    {
     "data": {
      "text/plain": [
       "<AxesSubplot:>"
      ]
     },
     "execution_count": 39,
     "metadata": {},
     "output_type": "execute_result"
    },
    {
     "data": {
      "image/png": "[encoded data removed]",
      "text/plain": [
       "<Figure size 432x288 with 1 Axes>"
      ]
     },
     "metadata": {
      "needs_background": "light"
     },
     "output_type": "display_data"
    }
   ],
   "source": [
    "sns.scatterplot(tws, winds)\n",
    "sns.scatterplot(twd, windd)\n",
    "sns.scatterplot(tt, temp)\n",
    "# matplotlib.axes.Axes.quiver"
   ]
  },
  {
   "cell_type": "markdown",
   "id": "715e3b47-9fd3-498c-aefc-069492217b95",
   "metadata": {},
   "source": [
    "#### Below is another dictionary used to build out visuals of historicals at certain well-known locations"
   ]
  },
  {
   "cell_type": "code",
   "execution_count": 14,
   "id": "9bd62fce-1aa5-4fd2-a5f7-567bddadd1ac",
   "metadata": {},
   "outputs": [],
   "source": [
    "import pandas as pd\n",
    "from sqlalchemy import create_engine\n",
    "\n",
    "engine = create_engine(\"sqlite:////Users/nk/Documents/Metis/07 Engineering/Project/data/weather.db\")"
   ]
  },
  {
   "cell_type": "code",
   "execution_count": 15,
   "id": "1e12aa90-dd96-4a86-a456-5eac30446839",
   "metadata": {},
   "outputs": [],
   "source": [
    "database_tables = engine.table_names()"
   ]
  },
  {
   "cell_type": "code",
   "execution_count": 16,
   "id": "bcd34c3b-b22f-42f2-bfaa-8072ad679d41",
   "metadata": {},
   "outputs": [],
   "source": [
    "database_tables_dict = {}\n",
    "for i in stations_us: \n",
    "    if i.call in database_tables:\n",
    "        database_tables_dict[i.call] = i"
   ]
  },
  {
   "cell_type": "code",
   "execution_count": null,
   "id": "d3d57f11-0416-4a04-b886-f443b2891501",
   "metadata": {},
   "outputs": [],
   "source": [
    "import pickle \n",
    "\n",
    "f = open(\"select_stations_metadata.pkl\",\"wb\")\n",
    "pickle.dump(database_tables_dict,f)\n",
    "f.close()"
   ]
  }
 ],
 "metadata": {
  "kernelspec": {
   "display_name": "Python [conda env:metis] *",
   "language": "python",
   "name": "conda-env-metis-py"
  },
  "language_info": {
   "codemirror_mode": {
    "name": "ipython",
    "version": 3
   },
   "file_extension": ".py",
   "mimetype": "text/x-python",
   "name": "python",
   "nbconvert_exporter": "python",
   "pygments_lexer": "ipython3",
   "version": "3.8.12"
  }
 },
 "nbformat": 4,
 "nbformat_minor": 5
}
