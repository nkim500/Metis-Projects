{
 "cells": [
  {
   "cell_type": "code",
   "execution_count": 1,
   "metadata": {},
   "outputs": [],
   "source": [
    "import keract\n",
    "import numpy as np\n",
    "import matplotlib\n",
    "import tensorflow as tf\n",
    "from tensorflow import keras\n",
    "from tensorflow.keras.preprocessing import image"
   ]
  },
  {
   "cell_type": "code",
   "execution_count": 6,
   "metadata": {},
   "outputs": [],
   "source": [
    "model = keras.models.load_model('with_mobilenet.h5')\n",
    "model_e = keras.models.load_model('custom_cnn_expanded_data.h5')"
   ]
  },
  {
   "cell_type": "code",
   "execution_count": 15,
   "metadata": {},
   "outputs": [],
   "source": [
    "no = 'Brain_Tumor_Detection/no/no1458.jpg'\n",
    "yes = 'yes.jpg'"
   ]
  },
  {
   "cell_type": "code",
   "execution_count": 16,
   "metadata": {},
   "outputs": [],
   "source": [
    "def heat_visualize(filepath, model, destination):\n",
    "    img = image.load_img(filepath, target_size=(224,224))\n",
    "    img = image.img_to_array(img).reshape(1,224,224,3)\n",
    "    activation = keract.get_activations(model, img)\n",
    "    keract.display_heatmaps(activation, img, save=True, directory=destination)"
   ]
  },
  {
   "cell_type": "code",
   "execution_count": 18,
   "metadata": {},
   "outputs": [
    {
     "name": "stdout",
     "output_type": "stream",
     "text": [
      "input_2 (1, 224, 224, 3) \n",
      "conv2d_5 (1, 224, 224, 32) \n",
      "max_pooling2d_2 (1, 112, 112, 32) \n",
      "conv2d_6 (1, 112, 112, 32) \n",
      "conv2d_7 (1, 112, 112, 64) \n",
      "conv2d_8 (1, 112, 112, 64) \n",
      "max_pooling2d_3 (1, 56, 56, 64) \n",
      "conv2d_9 (1, 56, 56, 10) \n",
      "flatten_1 (1, 31360) -> Skipped. 2D Activations.\n",
      "dense_1 (1, 1) -> Skipped. 2D Activations.\n"
     ]
    }
   ],
   "source": [
    "heat_visualize(no, model_e, 'custom_birdseye_no')"
   ]
  },
  {
   "cell_type": "code",
   "execution_count": 10,
   "metadata": {},
   "outputs": [],
   "source": [
    "heat_visualize(yes, model_e, 'custom_birdseye_yes')"
   ]
  },
  {
   "cell_type": "code",
   "execution_count": 11,
   "metadata": {},
   "outputs": [],
   "source": [
    "heat_visualize(yes, model, 'model_birdseye_yes')"
   ]
  },
  {
   "cell_type": "code",
   "execution_count": 12,
   "metadata": {},
   "outputs": [],
   "source": [
    "heat_visualize(no, model, 'model_birdseye_no')"
   ]
  }
 ],
 "metadata": {
  "kernelspec": {
   "display_name": "Python 3 (ipykernel)",
   "language": "python",
   "name": "python3"
  },
  "language_info": {
   "codemirror_mode": {
    "name": "ipython",
    "version": 3
   },
   "file_extension": ".py",
   "mimetype": "text/x-python",
   "name": "python",
   "nbconvert_exporter": "python",
   "pygments_lexer": "ipython3",
   "version": "3.7.11"
  }
 },
 "nbformat": 4,
 "nbformat_minor": 4
}
