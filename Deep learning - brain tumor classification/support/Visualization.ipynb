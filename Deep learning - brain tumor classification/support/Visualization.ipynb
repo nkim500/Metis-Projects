{
 "cells": [
  {
   "cell_type": "code",
   "execution_count": 1,
   "metadata": {},
   "outputs": [],
   "source": [
    "import keract\n",
    "import numpy as np"
   ]
  },
  {
   "cell_type": "code",
   "execution_count": 2,
   "metadata": {},
   "outputs": [],
   "source": [
    "import tensorflow as tf"
   ]
  },
  {
   "cell_type": "code",
   "execution_count": 3,
   "metadata": {},
   "outputs": [],
   "source": [
    "import matplotlib"
   ]
  },
  {
   "cell_type": "code",
   "execution_count": 4,
   "metadata": {},
   "outputs": [],
   "source": [
    "from tensorflow.keras.preprocessing import image"
   ]
  },
  {
   "cell_type": "code",
   "execution_count": 5,
   "metadata": {},
   "outputs": [],
   "source": [
    "from tensorflow import keras"
   ]
  },
  {
   "cell_type": "code",
   "execution_count": 6,
   "metadata": {},
   "outputs": [],
   "source": [
    "model = keras.models.load_model('with_mobilenet.h5')\n",
    "model_e = keras.models.load_model('custom_cnn_expanded_data.h5')"
   ]
  },
  {
   "cell_type": "code",
   "execution_count": 15,
   "metadata": {},
   "outputs": [],
   "source": [
    "no = 'Brain_Tumor_Detection/no/no1458.jpg'\n",
    "yes = 'yes.jpg'"
   ]
  },
  {
   "cell_type": "code",
   "execution_count": 16,
   "metadata": {},
   "outputs": [],
   "source": [
    "def heat_visualize(filepath, model, destination):\n",
    "    img = image.load_img(filepath, target_size=(224,224))\n",
    "    img = image.img_to_array(img).reshape(1,224,224,3)\n",
    "    activation = keract.get_activations(model, img)\n",
    "    keract.display_heatmaps(activation, img, save=True, directory=destination)"
   ]
  },
  {
   "cell_type": "code",
   "execution_count": 18,
   "metadata": {},
   "outputs": [
    {
     "name": "stdout",
     "output_type": "stream",
     "text": [
      "input_2 (1, 224, 224, 3) \n",
      "conv2d_5 (1, 224, 224, 32) \n",
      "max_pooling2d_2 (1, 112, 112, 32) \n",
      "conv2d_6 (1, 112, 112, 32) \n",
      "conv2d_7 (1, 112, 112, 64) \n",
      "conv2d_8 (1, 112, 112, 64) \n",
      "max_pooling2d_3 (1, 56, 56, 64) \n",
      "conv2d_9 (1, 56, 56, 10) \n",
      "flatten_1 (1, 31360) -> Skipped. 2D Activations.\n",
      "dense_1 (1, 1) -> Skipped. 2D Activations.\n"
     ]
    }
   ],
   "source": [
    "heat_visualize(no, model_e, 'custom_birdseye_no')"
   ]
  },
  {
   "cell_type": "code",
   "execution_count": 10,
   "metadata": {},
   "outputs": [],
   "source": [
    "heat_visualize(yes, model_e, 'custom_birdseye_yes')"
   ]
  },
  {
   "cell_type": "code",
   "execution_count": 11,
   "metadata": {},
   "outputs": [],
   "source": [
    "heat_visualize(yes, model, 'model_birdseye_yes')"
   ]
  },
  {
   "cell_type": "code",
   "execution_count": 12,
   "metadata": {},
   "outputs": [],
   "source": [
    "heat_visualize(no, model, 'model_birdseye_no')"
   ]
  },
  {
   "cell_type": "code",
   "execution_count": 13,
   "metadata": {},
   "outputs": [],
   "source": [
    "import shap \n",
    "from glob import glob\n",
    "from tensorflow.keras.preprocessing import image"
   ]
  },
  {
   "cell_type": "code",
   "execution_count": 14,
   "metadata": {},
   "outputs": [
    {
     "data": {
      "text/plain": [
       "'1.20.3'"
      ]
     },
     "execution_count": 14,
     "metadata": {},
     "output_type": "execute_result"
    }
   ],
   "source": [
    "import numpy as np\n",
    "np.__version__"
   ]
  },
  {
   "cell_type": "code",
   "execution_count": 15,
   "metadata": {},
   "outputs": [],
   "source": [
    "# directory = \"Brain_Tumor_Detection/\"\n",
    "# pixel = np.zeros((3000,224,224,3))\n",
    "# target = []\n",
    "\n",
    "# for dataclass in glob(directory+'/*'):\n",
    "#     for i, file in enumerate(glob(dataclass+'/*')):\n",
    "#         img = image.load_img(file, target_size=(224,224))\n",
    "#         img = image.img_to_array(img).reshape(1,224,224,3)\n",
    "#         pixel[i] = img\n",
    "#         target.append(dataclass.split(\"/\")[-1])"
   ]
  },
  {
   "cell_type": "code",
   "execution_count": null,
   "metadata": {
    "scrolled": false
   },
   "outputs": [],
   "source": [
    "# e = shap.DeepExplainer(model_e, pixel)\n",
    "# shap_values = e.shap_values(pixel[1:3])\n",
    "# shap.image_plot(shapp_values, -pixel[1:3])"
   ]
  },
  {
   "cell_type": "code",
   "execution_count": null,
   "metadata": {},
   "outputs": [],
   "source": [
    "tf.__version__"
   ]
  },
  {
   "cell_type": "code",
   "execution_count": 25,
   "metadata": {
    "scrolled": true
   },
   "outputs": [],
   "source": [
    "# import quiver_engine \n",
    "# from quiver_engine import server"
   ]
  },
  {
   "cell_type": "code",
   "execution_count": null,
   "metadata": {},
   "outputs": [
    {
     "name": "stderr",
     "output_type": "stream",
     "text": [
      "::1 - - [2021-12-03 00:41:51] \"GET / HTTP/1.1\" 404 388 0.000998\n"
     ]
    }
   ],
   "source": [
    "# quiver_engine.server.launch(model_e, input_folder='Brain_Tumor_Detection')"
   ]
  },
  {
   "cell_type": "code",
   "execution_count": null,
   "metadata": {},
   "outputs": [],
   "source": []
  },
  {
   "cell_type": "code",
   "execution_count": null,
   "metadata": {},
   "outputs": [],
   "source": []
  }
 ],
 "metadata": {
  "kernelspec": {
   "display_name": "Python 3 (ipykernel)",
   "language": "python",
   "name": "python3"
  },
  "language_info": {
   "codemirror_mode": {
    "name": "ipython",
    "version": 3
   },
   "file_extension": ".py",
   "mimetype": "text/x-python",
   "name": "python",
   "nbconvert_exporter": "python",
   "pygments_lexer": "ipython3",
   "version": "3.7.11"
  }
 },
 "nbformat": 4,
 "nbformat_minor": 4
}
