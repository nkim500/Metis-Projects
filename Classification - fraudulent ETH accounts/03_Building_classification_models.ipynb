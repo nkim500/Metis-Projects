{
 "cells": [
  {
   "cell_type": "markdown",
   "id": "fb0c4ac0-8ef7-4133-8b85-1d6baf62ce6c",
   "metadata": {},
   "source": [
    "#### Set up the environment - packages, models and dataset"
   ]
  },
  {
   "cell_type": "code",
   "execution_count": 30,
   "id": "66656fdf-76f2-4178-8288-5202e3b65fec",
   "metadata": {},
   "outputs": [],
   "source": [
    "import pandas as pd\n",
    "import numpy as np\n",
    "import matplotlib.pyplot as plt\n",
    "import seaborn as sns\n",
    "\n",
    "from sklearn.model_selection import train_test_split, KFold, cross_val_score, GridSearchCV, RandomizedSearchCV#, StratifiedKFold\n",
    "from sklearn.linear_model import LogisticRegression\n",
    "from sklearn.preprocessing import StandardScaler\n",
    "from sklearn.neighbors import KNeighborsClassifier\n",
    "from sklearn.ensemble import RandomForestClassifier, ExtraTreesClassifier, VotingClassifier\n",
    "from sklearn.metrics import precision_score, recall_score, accuracy_score, roc_auc_score, fbeta_score, make_scorer, confusion_matrix\n",
    "\n",
    "import xgboost as xgb\n",
    "import pickle\n",
    "\n",
    "from time import time"
   ]
  },
  {
   "cell_type": "code",
   "execution_count": 34,
   "id": "19dfcc45-02d7-4894-8524-6ad4aae2243a",
   "metadata": {},
   "outputs": [],
   "source": [
    "pd.set_option(\"display.max_columns\", None)\n",
    "%matplotlib inline\n",
    "import warnings\n",
    "warnings.filterwarnings('ignore')\n",
    "from sklearn.utils import warnings as skwarn\n",
    "skwarn.filterwarnings('ignore')"
   ]
  },
  {
   "cell_type": "code",
   "execution_count": 2,
   "id": "efa21883-7795-49d4-b376-9bbae2fc1272",
   "metadata": {},
   "outputs": [],
   "source": [
    "df = pd.read_csv(\"features_clean.csv\").iloc[:,1:]"
   ]
  },
  {
   "cell_type": "code",
   "execution_count": 3,
   "id": "f0fa2126-7d1b-4ded-a1e8-647e5a2325af",
   "metadata": {},
   "outputs": [
    {
     "data": {
      "text/html": [
       "<div>\n",
       "<style scoped>\n",
       "    .dataframe tbody tr th:only-of-type {\n",
       "        vertical-align: middle;\n",
       "    }\n",
       "\n",
       "    .dataframe tbody tr th {\n",
       "        vertical-align: top;\n",
       "    }\n",
       "\n",
       "    .dataframe thead th {\n",
       "        text-align: right;\n",
       "    }\n",
       "</style>\n",
       "<table border=\"1\" class=\"dataframe\">\n",
       "  <thead>\n",
       "    <tr style=\"text-align: right;\">\n",
       "      <th></th>\n",
       "      <th>flag</th>\n",
       "      <th>avg min between sent tnx</th>\n",
       "      <th>avg min between received tnx</th>\n",
       "      <th>time diff between first and last (mins)</th>\n",
       "      <th>sent tnx</th>\n",
       "      <th>received tnx</th>\n",
       "      <th>number of created contracts</th>\n",
       "      <th>unique received from addresses</th>\n",
       "      <th>unique sent to addresses</th>\n",
       "      <th>min value received</th>\n",
       "      <th>max value received</th>\n",
       "      <th>avg val received</th>\n",
       "      <th>min val sent</th>\n",
       "      <th>max val sent</th>\n",
       "      <th>avg val sent</th>\n",
       "      <th>total tnx</th>\n",
       "      <th>total ether sent</th>\n",
       "      <th>total ether received</th>\n",
       "      <th>total ether balance</th>\n",
       "      <th>total erc20 tnxs</th>\n",
       "      <th>erc20 total ether received</th>\n",
       "      <th>erc20 total ether sent</th>\n",
       "      <th>erc20 total ether sent contract</th>\n",
       "      <th>erc20 uniq sent addr</th>\n",
       "      <th>erc20 uniq rec addr</th>\n",
       "      <th>erc20 uniq sent contract addr</th>\n",
       "      <th>erc20 uniq rec contract addr</th>\n",
       "      <th>erc20 min val rec</th>\n",
       "      <th>erc20 max val rec</th>\n",
       "      <th>erc20 avg val rec</th>\n",
       "      <th>erc20 min val sent</th>\n",
       "      <th>erc20 max val sent</th>\n",
       "      <th>erc20 avg val sent</th>\n",
       "      <th>erc20 uniq sent token name</th>\n",
       "      <th>erc20 uniq rec token name</th>\n",
       "      <th>erc20 most sent token type</th>\n",
       "      <th>erc20 most rec token type</th>\n",
       "      <th>sent rec balance</th>\n",
       "    </tr>\n",
       "  </thead>\n",
       "  <tbody>\n",
       "    <tr>\n",
       "      <th>0</th>\n",
       "      <td>0</td>\n",
       "      <td>844.26</td>\n",
       "      <td>1093.71</td>\n",
       "      <td>704785.63</td>\n",
       "      <td>721</td>\n",
       "      <td>89</td>\n",
       "      <td>0</td>\n",
       "      <td>40</td>\n",
       "      <td>118</td>\n",
       "      <td>0.000000</td>\n",
       "      <td>45.806785</td>\n",
       "      <td>6.589513</td>\n",
       "      <td>0.00</td>\n",
       "      <td>31.220000</td>\n",
       "      <td>1.200681</td>\n",
       "      <td>810</td>\n",
       "      <td>865.691093</td>\n",
       "      <td>586.466675</td>\n",
       "      <td>-279.224419</td>\n",
       "      <td>265.0</td>\n",
       "      <td>3.558854e+07</td>\n",
       "      <td>3.560317e+07</td>\n",
       "      <td>0.0</td>\n",
       "      <td>30.0</td>\n",
       "      <td>54.0</td>\n",
       "      <td>0.0</td>\n",
       "      <td>58.0</td>\n",
       "      <td>0.0</td>\n",
       "      <td>1.500000e+07</td>\n",
       "      <td>265586.147600</td>\n",
       "      <td>0.000000</td>\n",
       "      <td>1.683100e+07</td>\n",
       "      <td>271779.920000</td>\n",
       "      <td>39.0</td>\n",
       "      <td>57.0</td>\n",
       "      <td>1</td>\n",
       "      <td>1</td>\n",
       "      <td>8.101124</td>\n",
       "    </tr>\n",
       "    <tr>\n",
       "      <th>1</th>\n",
       "      <td>0</td>\n",
       "      <td>12709.07</td>\n",
       "      <td>2958.44</td>\n",
       "      <td>1218216.73</td>\n",
       "      <td>94</td>\n",
       "      <td>8</td>\n",
       "      <td>0</td>\n",
       "      <td>5</td>\n",
       "      <td>14</td>\n",
       "      <td>0.000000</td>\n",
       "      <td>2.613269</td>\n",
       "      <td>0.385685</td>\n",
       "      <td>0.00</td>\n",
       "      <td>1.800000</td>\n",
       "      <td>0.032844</td>\n",
       "      <td>102</td>\n",
       "      <td>3.087297</td>\n",
       "      <td>3.085478</td>\n",
       "      <td>-0.001819</td>\n",
       "      <td>8.0</td>\n",
       "      <td>4.034283e+02</td>\n",
       "      <td>2.260809e+00</td>\n",
       "      <td>0.0</td>\n",
       "      <td>1.0</td>\n",
       "      <td>5.0</td>\n",
       "      <td>0.0</td>\n",
       "      <td>7.0</td>\n",
       "      <td>0.0</td>\n",
       "      <td>3.650000e+02</td>\n",
       "      <td>57.632615</td>\n",
       "      <td>2.260809</td>\n",
       "      <td>2.260809e+00</td>\n",
       "      <td>2.260809</td>\n",
       "      <td>1.0</td>\n",
       "      <td>7.0</td>\n",
       "      <td>1</td>\n",
       "      <td>1</td>\n",
       "      <td>11.750000</td>\n",
       "    </tr>\n",
       "    <tr>\n",
       "      <th>2</th>\n",
       "      <td>0</td>\n",
       "      <td>246194.54</td>\n",
       "      <td>2434.02</td>\n",
       "      <td>516729.30</td>\n",
       "      <td>2</td>\n",
       "      <td>10</td>\n",
       "      <td>0</td>\n",
       "      <td>10</td>\n",
       "      <td>2</td>\n",
       "      <td>0.113119</td>\n",
       "      <td>1.165453</td>\n",
       "      <td>0.358906</td>\n",
       "      <td>0.05</td>\n",
       "      <td>3.538616</td>\n",
       "      <td>1.794308</td>\n",
       "      <td>12</td>\n",
       "      <td>3.588616</td>\n",
       "      <td>3.589057</td>\n",
       "      <td>0.000441</td>\n",
       "      <td>8.0</td>\n",
       "      <td>5.215121e+02</td>\n",
       "      <td>0.000000e+00</td>\n",
       "      <td>0.0</td>\n",
       "      <td>0.0</td>\n",
       "      <td>7.0</td>\n",
       "      <td>0.0</td>\n",
       "      <td>8.0</td>\n",
       "      <td>0.0</td>\n",
       "      <td>4.428198e+02</td>\n",
       "      <td>65.189009</td>\n",
       "      <td>0.000000</td>\n",
       "      <td>0.000000e+00</td>\n",
       "      <td>0.000000</td>\n",
       "      <td>0.0</td>\n",
       "      <td>8.0</td>\n",
       "      <td>0</td>\n",
       "      <td>1</td>\n",
       "      <td>0.200000</td>\n",
       "    </tr>\n",
       "    <tr>\n",
       "      <th>3</th>\n",
       "      <td>0</td>\n",
       "      <td>10219.60</td>\n",
       "      <td>15785.09</td>\n",
       "      <td>397555.90</td>\n",
       "      <td>25</td>\n",
       "      <td>9</td>\n",
       "      <td>0</td>\n",
       "      <td>7</td>\n",
       "      <td>13</td>\n",
       "      <td>0.000000</td>\n",
       "      <td>500.000000</td>\n",
       "      <td>99.488840</td>\n",
       "      <td>0.00</td>\n",
       "      <td>450.000000</td>\n",
       "      <td>70.001834</td>\n",
       "      <td>34</td>\n",
       "      <td>1750.045862</td>\n",
       "      <td>895.399559</td>\n",
       "      <td>-854.646303</td>\n",
       "      <td>14.0</td>\n",
       "      <td>1.711105e+04</td>\n",
       "      <td>1.141223e+04</td>\n",
       "      <td>0.0</td>\n",
       "      <td>2.0</td>\n",
       "      <td>11.0</td>\n",
       "      <td>0.0</td>\n",
       "      <td>11.0</td>\n",
       "      <td>0.0</td>\n",
       "      <td>1.141223e+04</td>\n",
       "      <td>1555.550174</td>\n",
       "      <td>100.000000</td>\n",
       "      <td>9.029231e+03</td>\n",
       "      <td>3804.076893</td>\n",
       "      <td>1.0</td>\n",
       "      <td>11.0</td>\n",
       "      <td>1</td>\n",
       "      <td>1</td>\n",
       "      <td>2.777778</td>\n",
       "    </tr>\n",
       "    <tr>\n",
       "      <th>4</th>\n",
       "      <td>0</td>\n",
       "      <td>36.61</td>\n",
       "      <td>10707.77</td>\n",
       "      <td>382472.42</td>\n",
       "      <td>4598</td>\n",
       "      <td>20</td>\n",
       "      <td>1</td>\n",
       "      <td>7</td>\n",
       "      <td>19</td>\n",
       "      <td>0.000000</td>\n",
       "      <td>12.802411</td>\n",
       "      <td>2.671095</td>\n",
       "      <td>0.00</td>\n",
       "      <td>9.000000</td>\n",
       "      <td>0.022688</td>\n",
       "      <td>4619</td>\n",
       "      <td>104.318883</td>\n",
       "      <td>53.421897</td>\n",
       "      <td>-50.896986</td>\n",
       "      <td>42.0</td>\n",
       "      <td>1.628297e+05</td>\n",
       "      <td>1.235399e+05</td>\n",
       "      <td>0.0</td>\n",
       "      <td>4.0</td>\n",
       "      <td>23.0</td>\n",
       "      <td>0.0</td>\n",
       "      <td>27.0</td>\n",
       "      <td>0.0</td>\n",
       "      <td>9.000000e+04</td>\n",
       "      <td>4934.232147</td>\n",
       "      <td>0.000000</td>\n",
       "      <td>4.500000e+04</td>\n",
       "      <td>13726.659220</td>\n",
       "      <td>6.0</td>\n",
       "      <td>27.0</td>\n",
       "      <td>1</td>\n",
       "      <td>1</td>\n",
       "      <td>229.900000</td>\n",
       "    </tr>\n",
       "  </tbody>\n",
       "</table>\n",
       "</div>"
      ],
      "text/plain": [
       "   flag  avg min between sent tnx  avg min between received tnx  \\\n",
       "0     0                    844.26                       1093.71   \n",
       "1     0                  12709.07                       2958.44   \n",
       "2     0                 246194.54                       2434.02   \n",
       "3     0                  10219.60                      15785.09   \n",
       "4     0                     36.61                      10707.77   \n",
       "\n",
       "   time diff between first and last (mins)  sent tnx  received tnx  \\\n",
       "0                                704785.63       721            89   \n",
       "1                               1218216.73        94             8   \n",
       "2                                516729.30         2            10   \n",
       "3                                397555.90        25             9   \n",
       "4                                382472.42      4598            20   \n",
       "\n",
       "   number of created contracts  unique received from addresses  \\\n",
       "0                            0                              40   \n",
       "1                            0                               5   \n",
       "2                            0                              10   \n",
       "3                            0                               7   \n",
       "4                            1                               7   \n",
       "\n",
       "   unique sent to addresses  min value received  max value received  \\\n",
       "0                       118            0.000000           45.806785   \n",
       "1                        14            0.000000            2.613269   \n",
       "2                         2            0.113119            1.165453   \n",
       "3                        13            0.000000          500.000000   \n",
       "4                        19            0.000000           12.802411   \n",
       "\n",
       "   avg val received  min val sent  max val sent  avg val sent  total tnx  \\\n",
       "0          6.589513          0.00     31.220000      1.200681        810   \n",
       "1          0.385685          0.00      1.800000      0.032844        102   \n",
       "2          0.358906          0.05      3.538616      1.794308         12   \n",
       "3         99.488840          0.00    450.000000     70.001834         34   \n",
       "4          2.671095          0.00      9.000000      0.022688       4619   \n",
       "\n",
       "   total ether sent  total ether received  total ether balance  \\\n",
       "0        865.691093            586.466675          -279.224419   \n",
       "1          3.087297              3.085478            -0.001819   \n",
       "2          3.588616              3.589057             0.000441   \n",
       "3       1750.045862            895.399559          -854.646303   \n",
       "4        104.318883             53.421897           -50.896986   \n",
       "\n",
       "   total erc20 tnxs  erc20 total ether received  erc20 total ether sent  \\\n",
       "0             265.0                3.558854e+07            3.560317e+07   \n",
       "1               8.0                4.034283e+02            2.260809e+00   \n",
       "2               8.0                5.215121e+02            0.000000e+00   \n",
       "3              14.0                1.711105e+04            1.141223e+04   \n",
       "4              42.0                1.628297e+05            1.235399e+05   \n",
       "\n",
       "   erc20 total ether sent contract  erc20 uniq sent addr  erc20 uniq rec addr  \\\n",
       "0                              0.0                  30.0                 54.0   \n",
       "1                              0.0                   1.0                  5.0   \n",
       "2                              0.0                   0.0                  7.0   \n",
       "3                              0.0                   2.0                 11.0   \n",
       "4                              0.0                   4.0                 23.0   \n",
       "\n",
       "   erc20 uniq sent contract addr  erc20 uniq rec contract addr  \\\n",
       "0                            0.0                          58.0   \n",
       "1                            0.0                           7.0   \n",
       "2                            0.0                           8.0   \n",
       "3                            0.0                          11.0   \n",
       "4                            0.0                          27.0   \n",
       "\n",
       "   erc20 min val rec  erc20 max val rec  erc20 avg val rec  \\\n",
       "0                0.0       1.500000e+07      265586.147600   \n",
       "1                0.0       3.650000e+02          57.632615   \n",
       "2                0.0       4.428198e+02          65.189009   \n",
       "3                0.0       1.141223e+04        1555.550174   \n",
       "4                0.0       9.000000e+04        4934.232147   \n",
       "\n",
       "   erc20 min val sent  erc20 max val sent  erc20 avg val sent  \\\n",
       "0            0.000000        1.683100e+07       271779.920000   \n",
       "1            2.260809        2.260809e+00            2.260809   \n",
       "2            0.000000        0.000000e+00            0.000000   \n",
       "3          100.000000        9.029231e+03         3804.076893   \n",
       "4            0.000000        4.500000e+04        13726.659220   \n",
       "\n",
       "   erc20 uniq sent token name  erc20 uniq rec token name  \\\n",
       "0                        39.0                       57.0   \n",
       "1                         1.0                        7.0   \n",
       "2                         0.0                        8.0   \n",
       "3                         1.0                       11.0   \n",
       "4                         6.0                       27.0   \n",
       "\n",
       "   erc20 most sent token type  erc20 most rec token type  sent rec balance  \n",
       "0                           1                          1          8.101124  \n",
       "1                           1                          1         11.750000  \n",
       "2                           0                          1          0.200000  \n",
       "3                           1                          1          2.777778  \n",
       "4                           1                          1        229.900000  "
      ]
     },
     "execution_count": 3,
     "metadata": {},
     "output_type": "execute_result"
    }
   ],
   "source": [
    "df.head()"
   ]
  },
  {
   "cell_type": "code",
   "execution_count": 7,
   "id": "ac6c24d5-f740-47ee-9a5e-89ab226a0ba6",
   "metadata": {},
   "outputs": [],
   "source": [
    "x, xho, y, yho = train_test_split(df.iloc[:,1:], df.flag, test_size=0.2, random_state=2018)\n",
    "xtr, xte, ytr, yte = train_test_split(x, y, test_size=0.25, random_state=2019)"
   ]
  },
  {
   "cell_type": "code",
   "execution_count": 8,
   "id": "4eb919c0-2538-4613-95b4-3d4f978195fa",
   "metadata": {},
   "outputs": [],
   "source": [
    "dflr = df.fillna(df.median())"
   ]
  },
  {
   "cell_type": "code",
   "execution_count": 9,
   "id": "17791aa4-341f-46af-8de7-91f9944c5a20",
   "metadata": {},
   "outputs": [],
   "source": [
    "xl, xlho, yl, ylho = train_test_split(dflr.iloc[:,1:], dflr.flag, test_size=0.2, random_state=2018)\n",
    "xltr, xlte, yltr, ylte = train_test_split(xl, yl, test_size=0.25, random_state=2019)"
   ]
  },
  {
   "cell_type": "code",
   "execution_count": 10,
   "id": "0bf4af53-a3c4-404b-90c7-94eadae37a35",
   "metadata": {},
   "outputs": [],
   "source": [
    "scorers = {\n",
    "            'fbeta_score':make_scorer(fbeta_score),\n",
    "            'precision_score': make_scorer(precision_score),\n",
    "            'recall_score': make_scorer(recall_score),\n",
    "            'accuracy_score': make_scorer(accuracy_score)\n",
    "          }\n",
    "\n",
    "# skf = StratifiedKFold(n_splits=5, shuffle = True)\n",
    "kf = KFold(n_splits=5, shuffle=True, random_state = 2020)"
   ]
  },
  {
   "cell_type": "markdown",
   "id": "8d77a45d-f4c1-48dd-8ff2-e47c9bd5ff1f",
   "metadata": {},
   "source": [
    "#### Model 1. kNN"
   ]
  },
  {
   "cell_type": "code",
   "execution_count": 14,
   "id": "7231ca33-d029-42bc-a0d9-f5e1c6b0a0df",
   "metadata": {},
   "outputs": [],
   "source": [
    "knn = KNeighborsClassifier()"
   ]
  },
  {
   "cell_type": "code",
   "execution_count": 19,
   "id": "7b05af3a-4718-4e5b-99b6-bf5c186b906c",
   "metadata": {},
   "outputs": [
    {
     "name": "stdout",
     "output_type": "stream",
     "text": [
      "9.654690980911255\n"
     ]
    }
   ],
   "source": [
    "t0 = time()\n",
    "\n",
    "# k_range = np.arange(3,100,10) # narrowed down from here \n",
    "k_range = np.arange(3,24,5)\n",
    "\n",
    "weight_options = ['uniform', 'distance']\n",
    "param_grid = dict(n_neighbors=k_range, weights=weight_options)\n",
    "\n",
    "gridknn = GridSearchCV(knn, param_grid, cv=10, scoring='precision')\n",
    "gridknn.fit(xl, yl)\n",
    "\n",
    "knntime = time() - t0\n",
    "print(time() - t0)"
   ]
  },
  {
   "cell_type": "code",
   "execution_count": 20,
   "id": "323635b2-8872-4912-8f45-02569bfce61d",
   "metadata": {},
   "outputs": [
    {
     "name": "stdout",
     "output_type": "stream",
     "text": [
      "Best params:  {'n_neighbors': 8, 'weights': 'uniform'}\n",
      "Best estimator:  KNeighborsClassifier(n_neighbors=8)\n",
      "Best score:  0.8135550961520336\n"
     ]
    }
   ],
   "source": [
    "print(\"Best params: \", gridknn.best_params_)\n",
    "print(\"Best estimator: \", gridknn.best_estimator_)\n",
    "print(\"Best score: \", gridknn.best_score_)"
   ]
  },
  {
   "cell_type": "code",
   "execution_count": 21,
   "id": "733586fb-edcd-4459-b489-425595bb53d7",
   "metadata": {},
   "outputs": [],
   "source": [
    "knn_preds = gridknn.predict(xlte)"
   ]
  },
  {
   "cell_type": "markdown",
   "id": "66ff4d43-db40-4d86-90fb-2e19fc921af2",
   "metadata": {},
   "source": [
    "#### Model 2. Random Forest"
   ]
  },
  {
   "cell_type": "code",
   "execution_count": 36,
   "id": "9d865991-4030-4eed-98b1-a51682d11416",
   "metadata": {},
   "outputs": [],
   "source": [
    "rf = RandomForestClassifier(bootstrap=True)\n",
    "# rfxbs = RandomForestClassifier(bootstrap=False)"
   ]
  },
  {
   "cell_type": "code",
   "execution_count": 23,
   "id": "ea26e654-f903-46c6-95ee-e78d750af714",
   "metadata": {},
   "outputs": [
    {
     "name": "stdout",
     "output_type": "stream",
     "text": [
      "78.55853199958801\n"
     ]
    }
   ],
   "source": [
    "t0 = time()\n",
    "\n",
    "# nest = np.arange(1,302,50)\n",
    "# nest = np.arange(150,250,25)\n",
    "nest = np.arange(160,170,2)\n",
    "\n",
    "param_grid = dict(n_estimators=nest)\n",
    "\n",
    "gridrf = GridSearchCV(rf, param_grid, cv=10, scoring='precision')\n",
    "gridrf.fit(xl, yl)\n",
    "\n",
    "rftime = time() - t0\n",
    "print(time() - t0)"
   ]
  },
  {
   "cell_type": "code",
   "execution_count": 24,
   "id": "e5fc2b51-0a69-4521-8ab8-c654f4e83afc",
   "metadata": {},
   "outputs": [
    {
     "name": "stdout",
     "output_type": "stream",
     "text": [
      "Best params:  {'n_estimators': 164}\n",
      "Best estimator:  RandomForestClassifier(n_estimators=164)\n",
      "Best score:  0.9982523746746441\n"
     ]
    }
   ],
   "source": [
    "print(\"Best params: \", gridrf.best_params_)\n",
    "print(\"Best estimator: \", gridrf.best_estimator_)\n",
    "print(\"Best score: \", gridrf.best_score_)"
   ]
  },
  {
   "cell_type": "markdown",
   "id": "9305657e-3cd4-466c-a1e2-dec146c725b8",
   "metadata": {},
   "source": [
    "#### Model 3. Extra Trees"
   ]
  },
  {
   "cell_type": "code",
   "execution_count": 81,
   "id": "33beaeb9-7b73-49ee-a7ce-53931caad991",
   "metadata": {},
   "outputs": [],
   "source": [
    "et = ExtraTreesClassifier()"
   ]
  },
  {
   "cell_type": "code",
   "execution_count": 26,
   "id": "a4fc3c17-6446-4bbd-92a9-0939ecfcbc65",
   "metadata": {},
   "outputs": [
    {
     "name": "stdout",
     "output_type": "stream",
     "text": [
      "10.10012698173523\n"
     ]
    }
   ],
   "source": [
    "t0 = time()\n",
    "\n",
    "# nest_et = np.arange(1,302,50) #51\n",
    "# nest_et = np.arange(1,102,25) $51\n",
    "nest_et = np.arange(1,26,2)\n",
    "\n",
    "param_grid = dict(n_estimators=nest_et)\n",
    "\n",
    "gridet = GridSearchCV(et, param_grid, cv=10, scoring='precision')\n",
    "gridet.fit(xl, yl)\n",
    "\n",
    "ettime = time() - t0\n",
    "print(time() - t0)"
   ]
  },
  {
   "cell_type": "code",
   "execution_count": 27,
   "id": "aad88465-4601-40ba-87d4-2ab66477943f",
   "metadata": {},
   "outputs": [
    {
     "name": "stdout",
     "output_type": "stream",
     "text": [
      "Best params:  {'n_estimators': 23}\n",
      "Best estimator:  ExtraTreesClassifier(n_estimators=23)\n",
      "Best score:  0.9959434413905367\n"
     ]
    }
   ],
   "source": [
    "print(\"Best params: \", gridet.best_params_)\n",
    "print(\"Best estimator: \", gridet.best_estimator_)\n",
    "print(\"Best score: \", gridet.best_score_)"
   ]
  },
  {
   "cell_type": "markdown",
   "id": "87fe4b13-89f1-4d4b-9cd2-b5d98adecf5d",
   "metadata": {},
   "source": [
    "#### Model 4. XGBoost"
   ]
  },
  {
   "cell_type": "code",
   "execution_count": 42,
   "id": "a9e3bee5-23e9-42b6-a13a-41a547ba8523",
   "metadata": {},
   "outputs": [],
   "source": [
    "gbm = xgb.XGBClassifier(early_stopping_rounds = 10, eval_metric = \"logloss\", n_estimator = 300, verbosity = 0)\n",
    "\n",
    "# eval_set=[(xtr, ytr),(xte, yte)]\n",
    "\n",
    "params = {\n",
    "    \"max_depth\" : np.arange(3,8,2),\n",
    "    \"learning_rate\" : np.logspace(.001,1),\n",
    "    \"subsample\" : np.arange(.4,1,.1),\n",
    "    \"min_child_weight\" : np.linspace(3,13,3),\n",
    "    \"colsample_bytree\" : np.arange(.7,1,.1),\n",
    "    \"scale_pos_weight\" : np.arange(1,2.1,.3),\n",
    "}"
   ]
  },
  {
   "cell_type": "code",
   "execution_count": 54,
   "id": "981eebb8-6e08-4ad2-85e0-4e94739b9869",
   "metadata": {},
   "outputs": [
    {
     "name": "stdout",
     "output_type": "stream",
     "text": [
      "47.5305061340332\n"
     ]
    }
   ],
   "source": [
    "t0 = time()\n",
    "\n",
    "gridxgb = RandomizedSearchCV(gbm, param_distributions=params, cv=10, scoring='precision')\n",
    "gridxgb.fit(xl, yl)\n",
    "\n",
    "xgbtime = time() - t0\n",
    "print(time() - t0)"
   ]
  },
  {
   "cell_type": "code",
   "execution_count": 63,
   "id": "b9700c99-06ca-46a6-b0b7-655503de1ac5",
   "metadata": {},
   "outputs": [
    {
     "name": "stdout",
     "output_type": "stream",
     "text": [
      "Best params:  {'subsample': 0.6, 'scale_pos_weight': 1.3, 'min_child_weight': 13.0, 'max_depth': 3, 'learning_rate': 1.2093472472994864, 'colsample_bytree': 0.7}\n",
      "Best estimator:  XGBClassifier(base_score=0.5, booster='gbtree', colsample_bylevel=1,\n",
      "              colsample_bynode=1, colsample_bytree=0.7,\n",
      "              enable_categorical=False, gamma=0, gpu_id=-1,\n",
      "              importance_type=None, interaction_constraints='',\n",
      "              learning_rate=1.2093472472994864, max_delta_step=0, max_depth=3,\n",
      "              min_child_weight=13.0, missing=nan, monotone_constraints='()',\n",
      "              n_estimators=300, n_jobs=8, num_parallel_tree=1, predictor='auto',\n",
      "              random_state=0, reg_alpha=0, reg_lambda=1, scale_pos_weight=1.3,\n",
      "              subsample=0.6, tree_method='exact', validate_parameters=1,\n",
      "              verbosity=None)\n",
      "Best score:  0.9793183134435098\n"
     ]
    }
   ],
   "source": [
    "print(\"Best params: \", gridxgb.best_params_)\n",
    "print(\"Best estimator: \", gridxgb.best_estimator_)\n",
    "print(\"Best score: \", gridxgb.best_score_)"
   ]
  },
  {
   "cell_type": "code",
   "execution_count": 67,
   "id": "374f7f0a-c368-4f89-9be7-3fd31d246f26",
   "metadata": {},
   "outputs": [
    {
     "name": "stdout",
     "output_type": "stream",
     "text": [
      "9.654668092727661\n",
      "78.55849385261536\n",
      "10.100103855133057\n",
      "47.53047704696655\n"
     ]
    }
   ],
   "source": [
    "print(knntime)\n",
    "print(rftime)\n",
    "print(ettime)\n",
    "print(xgbtime)"
   ]
  },
  {
   "cell_type": "code",
   "execution_count": 66,
   "id": "677e7925-466c-4a51-b7dd-ba0e96094ed0",
   "metadata": {},
   "outputs": [],
   "source": [
    "pickle.dump(gridknn.best_estimator_, open(\"knn.pickle\", \"wb\"))\n",
    "pickle.dump(gridrf.best_estimator_, open(\"rf.pickle\", \"wb\"))\n",
    "pickle.dump(gridet.best_estimator_, open(\"et.pickle\", \"wb\"))\n",
    "pickle.dump(gridxgb.best_estimator_, open(\"xgb.pickle\", \"wb\"))"
   ]
  }
 ],
 "metadata": {
  "kernelspec": {
   "display_name": "Python [conda env:metis] *",
   "language": "python",
   "name": "conda-env-metis-py"
  },
  "language_info": {
   "codemirror_mode": {
    "name": "ipython",
    "version": 3
   },
   "file_extension": ".py",
   "mimetype": "text/x-python",
   "name": "python",
   "nbconvert_exporter": "python",
   "pygments_lexer": "ipython3",
   "version": "3.8.12"
  }
 },
 "nbformat": 4,
 "nbformat_minor": 5
}
