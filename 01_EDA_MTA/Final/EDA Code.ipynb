{
 "cells": [
  {
   "cell_type": "code",
   "execution_count": null,
   "id": "f261dead",
   "metadata": {},
   "outputs": [],
   "source": [
    "import pandas as pd\n",
    "from sqlalchemy import create_engine\n",
    "    \n",
    "engine = create_engine(\"sqlite:///mta_data.db\")\n",
    "df21 = pd.read_sql(\"SELECT * FROM mta_data_H1_19to21;\", engine)\n",
    "\n",
    "df = df21.copy()\n",
    "\n",
    "import numpy as np\n",
    "import matplotlib.pyplot as plt\n",
    "import seaborn as sns"
   ]
  },
  {
   "cell_type": "code",
   "execution_count": null,
   "id": "4359311f",
   "metadata": {},
   "outputs": [],
   "source": [
    "df.info()\n",
    "df.columns\n",
    "df.head(5)\n",
    "df.value_counts()\n",
    "df.groupby(\"STATION\")[\"DT\"].count()\n",
    "df.TIME.value_counts().head(30)\n",
    "df.TIME.value_counts().tail(30)"
   ]
  },
  {
   "cell_type": "code",
   "execution_count": null,
   "id": "e9415d8b",
   "metadata": {},
   "outputs": [],
   "source": [
    "import datetime as dt\n",
    "df[\"DATE_TIME\"] = pd.to_datetime(df.DT + \" \" + df.TIME, format = \"%m/%d/%Y %H:%M:%S\") #CONVERT TO DATETIME"
   ]
  },
  {
   "cell_type": "code",
   "execution_count": null,
   "id": "817a9219",
   "metadata": {},
   "outputs": [],
   "source": [
    "(df\n",
    ".groupby([\"CA\",\"UNIT\",\"SCP\",\"STATION\",\"DATE_TIME\"])\n",
    ".ENTRIES.count()\n",
    ".reset_index()\n",
    ".sort_values(\"ENTRIES\",ascending=False)).head(7) "
   ]
  },
  {
   "cell_type": "code",
   "execution_count": null,
   "id": "3267e885",
   "metadata": {},
   "outputs": [],
   "source": [
    "df.sort_values([\"CA\", \"UNIT\", \"SCP\", \"STATION\", \"DATE_TIME\"], inplace=True, ascending=True)\n",
    "df.sort_values([\"DATE_TIME\", \"DESC\"], inplace=True, ascending=[True,False])\n",
    "\n",
    "df.drop_duplicates(subset=[\"CA\", \"UNIT\", \"SCP\", \"STATION\", \"DATE_TIME\"], inplace=True)"
   ]
  },
  {
   "cell_type": "code",
   "execution_count": null,
   "id": "e9bcf073",
   "metadata": {},
   "outputs": [],
   "source": [
    "df.drop([\"EXITS\"], axis=1, inplace=True, errors=\"ignore\")"
   ]
  },
  {
   "cell_type": "code",
   "execution_count": null,
   "id": "e8516e68",
   "metadata": {},
   "outputs": [],
   "source": [
    "df.shape"
   ]
  },
  {
   "cell_type": "code",
   "execution_count": null,
   "id": "8688e76f",
   "metadata": {},
   "outputs": [],
   "source": [
    "df_4hr = df.copy()\n",
    "df_4hr[[\"PREV_DATE\",\"PREV_TIME\",\"PREV_DATETIME\",\"PREV_ENTRIES\"]] = (df_4hr.groupby([\"CA\", \"UNIT\", \"SCP\", \"STATION\"])[[\"DT\",\"TIME\",\"DATE_TIME\",\"ENTRIES\"]].shift(1))\n",
    "df_4hr.dropna(subset=[\"PREV_DATE\"], axis=0, inplace=True)"
   ]
  },
  {
   "cell_type": "code",
   "execution_count": null,
   "id": "b67ddf26",
   "metadata": {},
   "outputs": [],
   "source": [
    "(df_4hr[\"ENTRIES\"] - df_4hr[\"PREV_ENTRIES\"]).describe()"
   ]
  },
  {
   "cell_type": "code",
   "execution_count": null,
   "id": "90e9d3bf",
   "metadata": {},
   "outputs": [],
   "source": [
    "df_4hr[df_4hr[\"ENTRIES\"] < df_4hr[\"PREV_ENTRIES\"]].shape"
   ]
  },
  {
   "cell_type": "code",
   "execution_count": null,
   "id": "ef44fc6f",
   "metadata": {},
   "outputs": [],
   "source": [
    "(df_4hr[df_4hr[\"ENTRIES\"] < df_4hr[\"PREV_ENTRIES\"]]\n",
    " .groupby([\"CA\",\"UNIT\",\"SCP\",\"STATION\"])\n",
    " .size())"
   ]
  },
  {
   "cell_type": "code",
   "execution_count": null,
   "id": "d66666b7",
   "metadata": {},
   "outputs": [],
   "source": [
    "def get_daily_counts(row, max_counter):\n",
    "    counter = row[\"ENTRIES\"] - row[\"PREV_ENTRIES\"]\n",
    "    \n",
    "    if counter < 0:\n",
    "        counter = -counter\n",
    "    \n",
    "    if counter > max_counter:\n",
    "        print(f'entries: {row[\"ENTRIES\"]} <-- {row[\"PREV_ENTRIES\"]}')\n",
    "        counter = min(row[\"ENTRIES\"], row[\"PREV_ENTRIES\"])\n",
    "    \n",
    "    if counter > max_counter:\n",
    "        return 0\n",
    "    \n",
    "    return counter\n",
    "\n",
    "df_4hr[\"DAILY_ENTRIES\"] = df_4hr.apply(get_daily_counts, axis=1, max_counter=23040)"
   ]
  },
  {
   "cell_type": "code",
   "execution_count": null,
   "id": "38569260",
   "metadata": {},
   "outputs": [],
   "source": [
    "df_4hr[\"DAILY_ENTRIES_mean\"] = (df_4hr.groupby([\"CA\",\"UNIT\",\"SCP\",\"STATION\"]).DAILY_ENTRIES.transform(lambda x: x.mean()))\n",
    "df_4hr[\"DAILY_ENTRIES_std\"] = (df_4hr.groupby([\"CA\",\"UNIT\",\"SCP\",\"STATION\"]).DAILY_ENTRIES.transform(lambda x: (x - x.mean())/x.std()))\n",
    "\n",
    "df4_n = df_4hr[df_4hr[\"DAILY_ENTRIES_std\"] <= 2]"
   ]
  },
  {
   "cell_type": "code",
   "execution_count": null,
   "id": "15b9dabc",
   "metadata": {},
   "outputs": [],
   "source": [
    "df4_n.drop([\"DAILY_ENTRIES_mean\"], axis=1, inplace=True, errors=\"ignore\")\n",
    "df4_n.drop([\"DAILY_ENTRIES_std\"], axis=1, inplace=True, errors=\"ignore\")\n",
    "df4_n.drop([\"PREV_DATE\"], axis=1, inplace=True, errors=\"ignore\")\n",
    "df4_n.drop([\"PREV_TIME\"], axis=1, inplace=True, errors=\"ignore\")\n",
    "df4_n.drop([\"PREV_ENTRIES\"], axis=1, inplace=True, errors=\"ignore\")"
   ]
  },
  {
   "cell_type": "code",
   "execution_count": null,
   "id": "b0fc7c19",
   "metadata": {},
   "outputs": [],
   "source": [
    "#dftoi = df_4hr.set_index(\"DATE_TIME\").between_time('9:59:00','16:01:00')\n",
    "df4_n[\"T\"] = pd.to_datetime(df4_n[\"TIME\"], format = \"%H:%M:%S\").dt.time"
   ]
  },
  {
   "cell_type": "code",
   "execution_count": null,
   "id": "68a42b80",
   "metadata": {},
   "outputs": [],
   "source": [
    "mask = ((df4_n[\"T\"] >= dt.time(10,0,0)) & (df4_n[\"T\"] <= dt.time(16,0,0)))\n",
    "dftoi = df4_n[mask]"
   ]
  },
  {
   "cell_type": "code",
   "execution_count": null,
   "id": "d450c068",
   "metadata": {},
   "outputs": [],
   "source": [
    "topstations_2021 = df_4hr[(df_4hr.DATE_TIME >= \"2021-01-01 00:00:00\") & (df_4hr.DATE_TIME < '2021-07-31 23:59:59')]"
   ]
  },
  {
   "cell_type": "code",
   "execution_count": null,
   "id": "b1e8eb28",
   "metadata": {},
   "outputs": [],
   "source": [
    "topstations_2021_g = topstations_2021.groupby([\"STATION\"]).DAILY_ENTRIES.sum().reset_index().sort_values(\"DAILY_ENTRIES\", ascending=False)"
   ]
  },
  {
   "cell_type": "code",
   "execution_count": null,
   "id": "c1b0e98d",
   "metadata": {},
   "outputs": [],
   "source": [
    "topstations_2021_g.head(20)"
   ]
  },
  {
   "cell_type": "code",
   "execution_count": null,
   "id": "995baafb",
   "metadata": {},
   "outputs": [],
   "source": [
    "df4_n[\"DoW\"] = df4_n[\"DATE_TIME\"].dt.dayofweek\n",
    "DoW = {0: \"Mon\", 1: \"Tue\", 2: \"Wed\", 3: \"Thu\", 4: \"Fri\", 5: \"Sat\", 6: 'Sun'}\n",
    "df4_n[\"DoW_n\"] = df4_n.DoW.map(DoW)\n",
    "df4_n[\"H\"] = df4_n[\"DATE_TIME\"].dt.hour"
   ]
  },
  {
   "cell_type": "code",
   "execution_count": null,
   "id": "c7e1b176",
   "metadata": {},
   "outputs": [],
   "source": [
    "df4_p = df4_n.groupby([\"H\",\"DoW_n\"]).DAILY_ENTRIES.median().reset_index()"
   ]
  },
  {
   "cell_type": "code",
   "execution_count": null,
   "id": "3459b761",
   "metadata": {},
   "outputs": [],
   "source": [
    "df4_p.head(20)"
   ]
  },
  {
   "cell_type": "code",
   "execution_count": null,
   "id": "979cb869",
   "metadata": {},
   "outputs": [],
   "source": [
    "df4_pv = df4_p.pivot(index='H', columns='DoW_n', values='DAILY_ENTRIES')\n",
    "column_order = ['Mon','Tue','Wed','Thu','Fri','Sat','Sun']\n",
    "df4_pvt = df4_pv.reindex(column_order, axis=1)\n",
    "df4_pvt"
   ]
  },
  {
   "cell_type": "code",
   "execution_count": null,
   "id": "90eba31d",
   "metadata": {},
   "outputs": [],
   "source": [
    "sns.heatmap(df4_pvt,cmap='RdBu_r',annot=True, fmt=\"g\")\n",
    "\n",
    "sns.set(rc = {'figure.figsize':(15,8)})\n",
    "plt.title(\"Median traffic levels at NYC subway turnstiles (entries)\", fontsize=20)\n",
    "plt.xlabel(\"Day of Week\", fontsize=15)\n",
    "plt.ylabel(\"Time of Day\", fontsize=15);"
   ]
  },
  {
   "cell_type": "code",
   "execution_count": null,
   "id": "4b9024c4",
   "metadata": {},
   "outputs": [],
   "source": [
    "mask = ((df4_n[\"H\"] == 9) | (df4_n[\"H\"] == 10) | (df4_n[\"H\"] == 11) |\\\n",
    "        (df4_n[\"H\"] == 13) | (df4_n[\"H\"] == 14) | (df4_n[\"H\"] == 15) |\\\n",
    "        (df4_n[\"H\"] == 16) | (df4_n[\"H\"] == 17) | (df4_n[\"H\"] == 17))\n",
    "disp_H = df4_n[mask]\n",
    "disp_HV = disp_H.groupby([\"STATION\",\"H\"]).DAILY_ENTRIES.sum().reset_index()\n",
    "disp_HV2 = disp_HV[[\"H\",\"DAILY_ENTRIES\"]]"
   ]
  },
  {
   "cell_type": "code",
   "execution_count": null,
   "id": "a2fd2e05",
   "metadata": {},
   "outputs": [],
   "source": [
    "sns.violinplot(data=disp_HV2, x=\"H\", y=\"DAILY_ENTRIES\", fmt=\"g\");\n",
    "plt.title(\"Hourly traffic (entry) dispersion\", fontsize=20)\n",
    "plt.xlabel(\"Hour of Day\", fontsize=15)\n",
    "plt.ylabel(\"Entries per Station\", fontsize=15);"
   ]
  },
  {
   "cell_type": "code",
   "execution_count": null,
   "id": "cd560987",
   "metadata": {},
   "outputs": [],
   "source": [
    "dfpenn = df4_n[(df4_n[\"STATION\"] == \"34 ST-PENN STA\") | (df4_n[\"STATION\"] == \"34 ST-HERALD SQ\")]\n",
    "dfpenn.CA.unique()"
   ]
  },
  {
   "cell_type": "code",
   "execution_count": null,
   "id": "cc20789e",
   "metadata": {},
   "outputs": [],
   "source": [
    "dfpennm = dfpenn.groupby(\"CA\").sum().reset_index().sort_values(\"DAILY_ENTRIES\", ascending=False)"
   ]
  },
  {
   "cell_type": "code",
   "execution_count": null,
   "id": "6fe109af",
   "metadata": {},
   "outputs": [],
   "source": [
    "dfpennstation = dfpenn.groupby([\"STATION\",\"CA\"]).size().reset_index().rename(columns={0:\"count\"})\n",
    "dfpennstation.drop(\"count\", axis=1)\n",
    "dfpennm = pd.merge(dfpennm, dfpennstation, how=\"left\", on=[\"CA\"])"
   ]
  },
  {
   "cell_type": "code",
   "execution_count": null,
   "id": "72541bc1",
   "metadata": {},
   "outputs": [],
   "source": [
    "dfpennm.head()"
   ]
  },
  {
   "cell_type": "code",
   "execution_count": null,
   "id": "ae4a4b44",
   "metadata": {},
   "outputs": [],
   "source": [
    "sns.barplot(data=dfpennm, x=\"CA\", y=\"DAILY_ENTRIES\")\n",
    "plt.title(\"Traffic dispersion by Control Area at the top 2 stations, Penn Station & 34th St. Herald Square\", fontsize=20)\n",
    "plt.xlabel(\"Control Area\", fontsize=15)\n",
    "plt.ylabel(\"Cumulative entry traffic (Jan to Jul, 2019 to 2021)\", fontsize=15)\n",
    "plt.ticklabel_format(style='plain', axis='y')"
   ]
  },
  {
   "cell_type": "code",
   "execution_count": null,
   "id": "f2fd816a",
   "metadata": {},
   "outputs": [],
   "source": [
    "mask = (((df4_n[\"DoW_n\"] != \"Sat\") | (df4_n[\"DoW_n\"] != \"Sun\")) & ((df4_n[\"H\"] >= 10) & (df4_n[\"H\"] <= 16)))\n",
    "dfts = df4_n[mask].copy()"
   ]
  },
  {
   "cell_type": "code",
   "execution_count": null,
   "id": "e3304f0d",
   "metadata": {},
   "outputs": [],
   "source": [
    "dfts[\"std\"] = (dfts.groupby([\"STATION\",\"CA\",\"DoW_n\",\"H\"]).DAILY_ENTRIES.transform(lambda x: (x.std())))"
   ]
  },
  {
   "cell_type": "code",
   "execution_count": null,
   "id": "fedee744",
   "metadata": {},
   "outputs": [],
   "source": [
    "dfts[\"range\"] = (dfts.groupby([\"STATION\",\"CA\",\"DoW_n\",\"H\"]).DAILY_ENTRIES.transform(lambda x: (x.max() - x.min())))"
   ]
  },
  {
   "cell_type": "code",
   "execution_count": null,
   "id": "5690439c",
   "metadata": {},
   "outputs": [],
   "source": [
    "dfts_m = dfts.groupby([\"STATION\",\"CA\",\"DoW_n\",\"H\"])[[\"DAILY_ENTRIES\"]].median().reset_index()\n",
    "dfts_m.sort_values(\"DAILY_ENTRIES\", ascending=False, inplace=True)"
   ]
  },
  {
   "cell_type": "code",
   "execution_count": null,
   "id": "b0eca6e4",
   "metadata": {},
   "outputs": [],
   "source": [
    "dfts_m_chart = dfts_m[0:50]\n",
    "dfts_m_chart"
   ]
  },
  {
   "cell_type": "code",
   "execution_count": null,
   "id": "0a535052",
   "metadata": {},
   "outputs": [],
   "source": [
    "dfts_m_chart = pd.merge(dfts_m_chart, dfts[[\"CA\",\"DoW_n\",\"H\",\"range\",\"std\"]], how=\"left\", on=[\"CA\",\"DoW_n\",\"H\"])\n",
    "\n",
    "dfts_m_chart.head(10)"
   ]
  },
  {
   "cell_type": "code",
   "execution_count": null,
   "id": "04df31af",
   "metadata": {},
   "outputs": [],
   "source": [
    "dfts_m_chart.drop_duplicates(subset=[\"CA\", \"STATION\", \"DoW_n\", \"H\"], inplace=True)"
   ]
  },
  {
   "cell_type": "code",
   "execution_count": null,
   "id": "a0aabd8a",
   "metadata": {},
   "outputs": [],
   "source": [
    "dfts_m_chart.head(20)"
   ]
  },
  {
   "cell_type": "code",
   "execution_count": null,
   "id": "32b03154",
   "metadata": {},
   "outputs": [],
   "source": [
    "dfts_m_chart.dropna(subset=[\"std\"], axis=0, inplace=True)\n",
    "dfts_m_chart.reset_index()\n",
    "dfts_m_chart[\"std\"] = dfts_m_chart[\"std\"].round(1)"
   ]
  },
  {
   "cell_type": "code",
   "execution_count": null,
   "id": "7a79276e",
   "metadata": {},
   "outputs": [],
   "source": [
    "dfts_m_chart.sort_values([\"STATION\",\"DAILY_ENTRIES\",\"std\"], ascending=[True,False,True])\n",
    "dfts_m_chart.rename(columns={\"DAILY_ENTRIES\":\"Median\", \"std\":\"Standard Deviation\", \"range\":\"Range\", \"DoW_n\":\"Day of Week\", \"H\":\"Hour of Day\"}, inplace=True)"
   ]
  },
  {
   "cell_type": "code",
   "execution_count": null,
   "id": "8eb1a566",
   "metadata": {},
   "outputs": [],
   "source": [
    "dfts_m_chart[\"Rank, by Median\"] = range(1,len(dfts_m_chart[\"Median\"])+1)"
   ]
  },
  {
   "cell_type": "code",
   "execution_count": null,
   "id": "51f72644",
   "metadata": {},
   "outputs": [],
   "source": [
    "dfts_m_chart.sort_values([\"STATION\",\"Median\",\"Standard Deviation\"], ascending=[True,False,True])"
   ]
  },
  {
   "cell_type": "code",
   "execution_count": null,
   "id": "06903ae5",
   "metadata": {},
   "outputs": [],
   "source": [
    "dftsmchart = dfts_m_chart[(dfts_m_chart[\"Rank, by Median\"]<=30)].head(30)\n",
    "\n",
    "DoW1 = {\"Mon\":0, \"Tue\":1, \"Wed\":2, \"Thu\":3, \"Fri\":4, \"Sat\":5, 'Sun':6}\n",
    "dftsmchart[\"DOW\"] = dftsmchart[\"Day of Week\"].map(DoW1)\n",
    "dftsmchart.sort_values([\"DOW\", \"Hour of Day\", \"Rank, by Median\"], ascending=True, inplace=True)\n",
    "dftsmchart.drop(\"DOW\", axis=1, inplace=True)\n",
    "dftsmchart.head(30)"
   ]
  },
  {
   "cell_type": "code",
   "execution_count": null,
   "id": "0f2a82f6",
   "metadata": {},
   "outputs": [],
   "source": [
    "dftoi[\"Year\"] = dftoi.DATE_TIME.dt.year"
   ]
  },
  {
   "cell_type": "code",
   "execution_count": null,
   "id": "84299aaa",
   "metadata": {},
   "outputs": [],
   "source": [
    "dftoiy = dftoi.drop([\"DIVISION\",\"TIME\",\"DESC\",\"ENTRIES\",\"PREV_DATETIME\",\"T\"], axis=1)"
   ]
  },
  {
   "cell_type": "code",
   "execution_count": null,
   "id": "d922b808",
   "metadata": {},
   "outputs": [],
   "source": [
    "dftoiy[\"daynum\"] = dftoiy[\"DATE_TIME\"].dt.dayofyear"
   ]
  },
  {
   "cell_type": "code",
   "execution_count": null,
   "id": "16c6f93d",
   "metadata": {},
   "outputs": [],
   "source": [
    "dftoiy19 = dftoiy[dftoiy[\"Year\"] == 2019]\n",
    "dftoiy19s = dftoiy19.sort_values(\"daynum\",ascending=True)\n",
    "dftoiy19m = dftoiy19s.groupby(\"daynum\").DAILY_ENTRIES.median().reset_index()\n",
    "dftoiy20 = dftoiy[dftoiy[\"Year\"] == 2020]\n",
    "dftoiy20s = dftoiy20.sort_values(\"daynum\",ascending=True)\n",
    "dftoiy20m = dftoiy20s.groupby(\"daynum\").DAILY_ENTRIES.median().reset_index()\n",
    "dftoiy21 = dftoiy[dftoiy[\"Year\"] == 2021]\n",
    "dftoiy21s = dftoiy21.sort_values(\"daynum\",ascending=True)\n",
    "dftoiy21m = dftoiy21s.groupby(\"daynum\").DAILY_ENTRIES.median().reset_index()"
   ]
  },
  {
   "cell_type": "code",
   "execution_count": null,
   "id": "d8a7eb99",
   "metadata": {},
   "outputs": [],
   "source": [
    "from functools import reduce\n",
    "dftoiy_all = [dftoiy19m, dftoiy20m, dftoiy21m]\n",
    "df_merged = reduce(lambda  left,right: pd.merge(left,right,on=['daynum'], how='inner'), dftoiy_all)"
   ]
  },
  {
   "cell_type": "code",
   "execution_count": null,
   "id": "6045f6dc",
   "metadata": {},
   "outputs": [],
   "source": [
    "df_merged.rename(columns={\"DAILY_ENTRIES_x\":\"Median Traffic 2019\", \"DAILY_ENTRIES_y\": \"Median Traffic 2020\", \"DAILY_ENTRIES\": \"Median Traffic 2021\"})"
   ]
  },
  {
   "cell_type": "code",
   "execution_count": null,
   "id": "e91004e7",
   "metadata": {},
   "outputs": [],
   "source": [
    "from matplotlib import pylab\n",
    "\n",
    "#sns.lineplot(data=df_merged, x=\"daynum\")\n",
    "sns.lineplot(data=dftoiy19m, x=\"daynum\", y=\"DAILY_ENTRIES\")\n",
    "\n",
    "z19 = np.polyfit(dftoiy19m.daynum, dftoiy19m.DAILY_ENTRIES, 1)\n",
    "p19 = np.poly1d(z19)\n",
    "pylab.plot(dftoiy19m.daynum,p19(dftoiy19m.daynum),\"b--\")\n",
    "\n",
    "sns.lineplot(data=dftoiy20m, x=\"daynum\", y=\"DAILY_ENTRIES\")\n",
    "\n",
    "#z20 = np.polyfit(dftoiy20m.daynum, dftoiy20m.DAILY_ENTRIES, 1)\n",
    "#p20 = np.poly1d(z20)\n",
    "#pylab.plot(dftoiy20m.daynum,p20(dftoiy20m.daynum))\n",
    "\n",
    "sns.lineplot(data=dftoiy21m, x=\"daynum\", y=\"DAILY_ENTRIES\")\n",
    "\n",
    "z21 = np.polyfit(dftoiy21m.daynum, dftoiy21m.DAILY_ENTRIES, 1)\n",
    "p21 = np.poly1d(z21)\n",
    "pylab.plot(dftoiy21m.daynum,p21(dftoiy21m.daynum),\"g--\")\n",
    "\n",
    "plt.legend(['2019','2020', '2021'], shadow = True);\n",
    "plt.xticks(ticks=list(range(0,212,30)));\n",
    "plt.title(\"Daily entry traffic per turnstile from 2019 to 2020\", fontsize=20)\n",
    "plt.xlabel(\"Days from January 1\", fontsize=12)\n",
    "plt.ylabel(\"Median entry traffic at each turnstile\", fontsize=12)"
   ]
  }
 ],
 "metadata": {
  "kernelspec": {
   "display_name": "Python [conda env:metis] *",
   "language": "python",
   "name": "conda-env-metis-py"
  },
  "language_info": {
   "codemirror_mode": {
    "name": "ipython",
    "version": 3
   },
   "file_extension": ".py",
   "mimetype": "text/x-python",
   "name": "python",
   "nbconvert_exporter": "python",
   "pygments_lexer": "ipython3",
   "version": "3.8.10"
  }
 },
 "nbformat": 4,
 "nbformat_minor": 5
}
